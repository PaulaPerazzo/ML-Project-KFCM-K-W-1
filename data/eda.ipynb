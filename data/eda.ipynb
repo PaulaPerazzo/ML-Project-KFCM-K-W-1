{
 "cells": [
  {
   "cell_type": "code",
   "execution_count": 2,
   "metadata": {},
   "outputs": [
    {
     "name": "stdout",
     "output_type": "stream",
     "text": [
      "  Sequence Name   mcg   gvh   alm   mit  erl  pox   vac   nuc Class\n",
      "0    ADT1_YEAST  0.58  0.61  0.47  0.13  0.5  0.0  0.48  0.22   MIT\n",
      "1    ADT2_YEAST  0.43  0.67  0.48  0.27  0.5  0.0  0.53  0.22   MIT\n",
      "2    ADT3_YEAST  0.64  0.62  0.49  0.15  0.5  0.0  0.53  0.22   MIT\n",
      "3    AAR2_YEAST  0.58  0.44  0.57  0.13  0.5  0.0  0.54  0.22   NUC\n",
      "4    AATM_YEAST  0.42  0.44  0.48  0.54  0.5  0.0  0.48  0.22   MIT\n"
     ]
    },
    {
     "name": "stderr",
     "output_type": "stream",
     "text": [
      "/var/folders/xh/n_j2f34x3gbbkjmhhfy63yc00000gn/T/ipykernel_60056/3487914543.py:4: FutureWarning: The 'delim_whitespace' keyword in pd.read_csv is deprecated and will be removed in a future version. Use ``sep='\\s+'`` instead\n",
      "  data = pd.read_csv('yeast.data', delim_whitespace=True, header=None)\n"
     ]
    }
   ],
   "source": [
    "import pandas as pd\n",
    "\n",
    "data = pd.read_csv('yeast.data', delim_whitespace=True, header=None)\n",
    "data.columns = ['Sequence Name', 'mcg', 'gvh', 'alm', 'mit', 'erl', 'pox', 'vac', 'nuc', 'Class']\n",
    "print(data.head())"
   ]
  },
  {
   "cell_type": "code",
   "execution_count": 4,
   "metadata": {},
   "outputs": [],
   "source": [
    "data.to_csv('yeast.csv', index=False)"
   ]
  },
  {
   "cell_type": "code",
   "execution_count": 6,
   "metadata": {},
   "outputs": [
    {
     "name": "stdout",
     "output_type": "stream",
     "text": [
      "<class 'pandas.core.frame.DataFrame'>\n",
      "RangeIndex: 1484 entries, 0 to 1483\n",
      "Data columns (total 10 columns):\n",
      " #   Column         Non-Null Count  Dtype  \n",
      "---  ------         --------------  -----  \n",
      " 0   Sequence Name  1484 non-null   object \n",
      " 1   mcg            1484 non-null   float64\n",
      " 2   gvh            1484 non-null   float64\n",
      " 3   alm            1484 non-null   float64\n",
      " 4   mit            1484 non-null   float64\n",
      " 5   erl            1484 non-null   float64\n",
      " 6   pox            1484 non-null   float64\n",
      " 7   vac            1484 non-null   float64\n",
      " 8   nuc            1484 non-null   float64\n",
      " 9   Class          1484 non-null   object \n",
      "dtypes: float64(8), object(2)\n",
      "memory usage: 116.1+ KB\n",
      "None\n"
     ]
    }
   ],
   "source": [
    "# get general info about the dataset\n",
    "print(data.info())"
   ]
  },
  {
   "cell_type": "code",
   "execution_count": 7,
   "metadata": {},
   "outputs": [
    {
     "name": "stdout",
     "output_type": "stream",
     "text": [
      "               mcg          gvh          alm          mit          erl  \\\n",
      "count  1484.000000  1484.000000  1484.000000  1484.000000  1484.000000   \n",
      "mean      0.500121     0.499933     0.500034     0.261186     0.504717   \n",
      "std       0.137299     0.123924     0.086670     0.137098     0.048351   \n",
      "min       0.110000     0.130000     0.210000     0.000000     0.500000   \n",
      "25%       0.410000     0.420000     0.460000     0.170000     0.500000   \n",
      "50%       0.490000     0.490000     0.510000     0.220000     0.500000   \n",
      "75%       0.580000     0.570000     0.550000     0.320000     0.500000   \n",
      "max       1.000000     1.000000     1.000000     1.000000     1.000000   \n",
      "\n",
      "               pox          vac          nuc  \n",
      "count  1484.000000  1484.000000  1484.000000  \n",
      "mean      0.007500     0.499885     0.276199  \n",
      "std       0.075683     0.057797     0.106491  \n",
      "min       0.000000     0.000000     0.000000  \n",
      "25%       0.000000     0.480000     0.220000  \n",
      "50%       0.000000     0.510000     0.220000  \n",
      "75%       0.000000     0.530000     0.300000  \n",
      "max       0.830000     0.730000     1.000000  \n"
     ]
    }
   ],
   "source": [
    "# get statistical summary of the dataset\n",
    "print(data.describe())"
   ]
  },
  {
   "cell_type": "code",
   "execution_count": 8,
   "metadata": {},
   "outputs": [
    {
     "name": "stdout",
     "output_type": "stream",
     "text": [
      "Class\n",
      "CYT    463\n",
      "NUC    429\n",
      "MIT    244\n",
      "ME3    163\n",
      "ME2     51\n",
      "ME1     44\n",
      "EXC     35\n",
      "VAC     30\n",
      "POX     20\n",
      "ERL      5\n",
      "Name: count, dtype: int64\n",
      "Sequence Name    0\n",
      "mcg              0\n",
      "gvh              0\n",
      "alm              0\n",
      "mit              0\n",
      "erl              0\n",
      "pox              0\n",
      "vac              0\n",
      "nuc              0\n",
      "Class            0\n",
      "dtype: int64\n"
     ]
    }
   ],
   "source": [
    "print(data['Class'].value_counts())\n",
    "print(data.isnull().sum())"
   ]
  },
  {
   "cell_type": "code",
   "execution_count": 15,
   "metadata": {},
   "outputs": [
    {
     "data": {
      "image/png": "[encoded data removed]",
      "text/plain": [
       "<Figure size 1000x600 with 1 Axes>"
      ]
     },
     "metadata": {},
     "output_type": "display_data"
    }
   ],
   "source": [
    "# visualize class distribution\n",
    "import matplotlib.pyplot as plt\n",
    "import seaborn as sns\n",
    "\n",
    "plt.figure(figsize=(10, 6))\n",
    "sns.countplot(data=data, x='Class', order=data['Class'].value_counts().index)\n",
    "plt.title('Class Distribution in Yeast Dataset')\n",
    "plt.xlabel('Class')\n",
    "plt.ylabel('Count')\n",
    "plt.show()"
   ]
  },
  {
   "cell_type": "code",
   "execution_count": 10,
   "metadata": {},
   "outputs": [
    {
     "name": "stdout",
     "output_type": "stream",
     "text": [
      "Train set size: (949, 10)\n",
      "Validation set size: (238, 10)\n",
      "Test set size: (297, 10)\n"
     ]
    }
   ],
   "source": [
    "# divide data into train, test and validation sets\n",
    "from sklearn.model_selection import train_test_split\n",
    "\n",
    "train_data, test_data = train_test_split(data, test_size=0.2, random_state=42, stratify=data['Class'])\n",
    "train_data, val_data = train_test_split(train_data, test_size=0.2, random_state=42, stratify=train_data['Class'])\n",
    "\n",
    "print(f'Train set size: {train_data.shape}')\n",
    "print(f'Validation set size: {val_data.shape}')\n",
    "print(f'Test set size: {test_data.shape}')\n",
    "train_data.to_csv('yeast_train.csv', index=False)\n",
    "val_data.to_csv('yeast_val.csv', index=False)\n",
    "test_data.to_csv('yeast_test.csv', index=False)"
   ]
  },
  {
   "cell_type": "code",
   "execution_count": 12,
   "metadata": {},
   "outputs": [
    {
     "name": "stdout",
     "output_type": "stream",
     "text": [
      "Class\n",
      "CYT    296\n",
      "NUC    274\n",
      "MIT    156\n",
      "ME3    105\n",
      "ME2     33\n",
      "ME1     28\n",
      "EXC     22\n",
      "VAC     19\n",
      "POX     13\n",
      "ERL      3\n",
      "Name: count, dtype: int64\n"
     ]
    }
   ],
   "source": [
    "print(train_data['Class'].value_counts())"
   ]
  },
  {
   "cell_type": "code",
   "execution_count": 13,
   "metadata": {},
   "outputs": [
    {
     "name": "stdout",
     "output_type": "stream",
     "text": [
      "Class\n",
      "CYT    74\n",
      "NUC    69\n",
      "MIT    39\n",
      "ME3    26\n",
      "ME2     8\n",
      "ME1     7\n",
      "EXC     6\n",
      "VAC     5\n",
      "POX     3\n",
      "ERL     1\n",
      "Name: count, dtype: int64\n"
     ]
    }
   ],
   "source": [
    "print(val_data['Class'].value_counts())"
   ]
  },
  {
   "cell_type": "code",
   "execution_count": 14,
   "metadata": {},
   "outputs": [
    {
     "name": "stdout",
     "output_type": "stream",
     "text": [
      "Class\n",
      "CYT    93\n",
      "NUC    86\n",
      "MIT    49\n",
      "ME3    32\n",
      "ME2    10\n",
      "ME1     9\n",
      "EXC     7\n",
      "VAC     6\n",
      "POX     4\n",
      "ERL     1\n",
      "Name: count, dtype: int64\n"
     ]
    }
   ],
   "source": [
    "print(test_data['Class'].value_counts())"
   ]
  },
  {
   "cell_type": "code",
   "execution_count": null,
   "metadata": {},
   "outputs": [],
   "source": []
  }
 ],
 "metadata": {
  "kernelspec": {
   "display_name": ".env",
   "language": "python",
   "name": "python3"
  },
  "language_info": {
   "codemirror_mode": {
    "name": "ipython",
    "version": 3
   },
   "file_extension": ".py",
   "mimetype": "text/x-python",
   "name": "python",
   "nbconvert_exporter": "python",
   "pygments_lexer": "ipython3",
   "version": "3.13.1"
  }
 },
 "nbformat": 4,
 "nbformat_minor": 2
}
